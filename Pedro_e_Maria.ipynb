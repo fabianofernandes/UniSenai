{
  "nbformat": 4,
  "nbformat_minor": 0,
  "metadata": {
    "colab": {
      "provenance": [],
      "authorship_tag": "ABX9TyNGjnFPVRIzjIc3nM4Ztmy3",
      "include_colab_link": true
    },
    "kernelspec": {
      "name": "python3",
      "display_name": "Python 3"
    },
    "language_info": {
      "name": "python"
    }
  },
  "cells": [
    {
      "cell_type": "markdown",
      "metadata": {
        "id": "view-in-github",
        "colab_type": "text"
      },
      "source": [
        "<a href=\"https://colab.research.google.com/github/fabianofernandes/UniSenai/blob/main/Pedro_e_Maria.ipynb\" target=\"_parent\"><img src=\"https://colab.research.google.com/assets/colab-badge.svg\" alt=\"Open In Colab\"/></a>"
      ]
    },
    {
      "cell_type": "markdown",
      "source": [
        "# 1. **Entendimento do Negócio**:Os dados desta semana vêm do Spotify por meio do spotifyrpacote . Charlie Thompson , Josiah Parry , Donal Phipps e Tom Wolff criaram este pacote para facilitar a obtenção de seus próprios dados ou metadados gerais sobre músicas a partir da API do Spotify. Não deixe de conferir o site spotifyrdo pacote para ver como você pode coletar seus próprios dados!\n",
        "\n",
        "Kaylin Pavlik publicou recentemente um post no blog usando os recursos de áudio para explorar e classificar músicas. Ela usou o spotifyrpacote para coletar cerca de 5.000 músicas de 6 categorias principais (EDM, Latina, Pop, R&B, Rap e Rock)."
      ],
      "metadata": {
        "id": "qFFGgIrogSwI"
      }
    },
    {
      "cell_type": "code",
      "execution_count": null,
      "metadata": {
        "id": "ap1wNgm0gNnL"
      },
      "outputs": [],
      "source": []
    }
  ]
}